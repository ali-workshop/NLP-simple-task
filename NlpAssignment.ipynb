{
  "nbformat": 4,
  "nbformat_minor": 0,
  "metadata": {
    "colab": {
      "provenance": [],
      "authorship_tag": "ABX9TyN4lwgeePCnX2Iuzh/tS4hJ",
      "include_colab_link": true
    },
    "kernelspec": {
      "name": "python3",
      "display_name": "Python 3"
    },
    "language_info": {
      "name": "python"
    }
  },
  "cells": [
    {
      "cell_type": "markdown",
      "metadata": {
        "id": "view-in-github",
        "colab_type": "text"
      },
      "source": [
        "<a href=\"https://colab.research.google.com/github/ali-workshop/NLP-simple-task/blob/main/NlpAssignment.ipynb\" target=\"_parent\"><img src=\"https://colab.research.google.com/assets/colab-badge.svg\" alt=\"Open In Colab\"/></a>"
      ]
    },
    {
      "cell_type": "markdown",
      "source": [
        "##Question1\n",
        "A) Enumerate all punctuation marks within the text sourced from Transofrmers text file.\n",
        "\n",
        "B) Quantify the frequency of punctuation marks within the text.\n",
        "\n",
        "C) Determine the total character count of the text.\n",
        "\n",
        "D) Quantify the number of words and lines present within the text.\n",
        "\n",
        "E) Determine the number of spaces within the processed text.\n",
        "\n",
        "F) Discern the prepositions \"to\", \"for\", \"in\", \"at\", \"about\", and\n",
        "\"of\" within\n",
        "the text.\n",
        "\n",
        "G) Providing individual counts for each of the specified prepositions\n",
        "mentioned in the text.\n",
        "\n",
        "H) Determine the total number of unique types present within the text.\n",
        "\n",
        "I) Identify all past and continues verbs. Then enumerate them.\n",
        "\n",
        "J) Determine the quantity of capitalized words within the text.\n",
        "\n",
        "K) Determine the number of lowercase words in the text.\n"
      ],
      "metadata": {
        "id": "hMXfIFcG-csP"
      }
    },
    {
      "cell_type": "code",
      "source": [
        "transformer_path=\"/content/Transformers.txt\"\n",
        "invention_path=\"/content/Inventions.txt\"\n"
      ],
      "metadata": {
        "id": "zH8eh0Ag-c0t"
      },
      "execution_count": null,
      "outputs": []
    },
    {
      "cell_type": "markdown",
      "source": [
        "#Solution"
      ],
      "metadata": {
        "id": "j6dcO4Nh_KJ8"
      }
    },
    {
      "cell_type": "code",
      "source": [
        "import re"
      ],
      "metadata": {
        "id": "OYEpI_Ge_6TK"
      },
      "execution_count": null,
      "outputs": []
    },
    {
      "cell_type": "code",
      "source": [
        "# Read text from file\n",
        "with open(transformer_path, \"r\") as file:\n",
        "    text = file.read()"
      ],
      "metadata": {
        "id": "8iEcPFIJ_82G"
      },
      "execution_count": null,
      "outputs": []
    },
    {
      "cell_type": "code",
      "source": [
        "# A) Enumerate all punctuation marks\n",
        "punctuation_marks = re.findall(r'[^\\w\\s]', text)"
      ],
      "metadata": {
        "id": "2Ca89yrm_94y"
      },
      "execution_count": null,
      "outputs": []
    },
    {
      "cell_type": "code",
      "source": [
        "# B) Quantify the frequency of punctuation marks\n",
        "punctuation_frequency = {p: punctuation_marks.count(p) for p in set(punctuation_marks)}"
      ],
      "metadata": {
        "id": "Ri0MFZyV__Aa"
      },
      "execution_count": null,
      "outputs": []
    },
    {
      "cell_type": "code",
      "source": [
        "# C) Determine the total character count\n",
        "total_characters = len(text)\n"
      ],
      "metadata": {
        "id": "t48dqQnhAAFF"
      },
      "execution_count": null,
      "outputs": []
    },
    {
      "cell_type": "code",
      "source": [
        "# D) Quantify the number of words and lines\n",
        "words = re.findall(r'\\b\\w+\\b', text)\n",
        "lines = text.split('\\n')\n",
        "word_count = len(words)\n",
        "line_count = len(lines)"
      ],
      "metadata": {
        "id": "jgPgDoOjABgK"
      },
      "execution_count": null,
      "outputs": []
    },
    {
      "cell_type": "code",
      "source": [
        "# E) Determine the number of spaces\n",
        "space_count = text.count(' ')"
      ],
      "metadata": {
        "id": "Q0sUj6rZACgy"
      },
      "execution_count": null,
      "outputs": []
    },
    {
      "cell_type": "code",
      "source": [
        "# F) Discern the prepositions\n",
        "prepositions = re.findall(r'\\b(to|for|in|at|about|of)\\b', text)"
      ],
      "metadata": {
        "id": "umLVbwUJADy0"
      },
      "execution_count": null,
      "outputs": []
    },
    {
      "cell_type": "code",
      "source": [
        "# G) Providing individual counts for each preposition\n",
        "preposition_counts = {p: prepositions.count(p) for p in set(prepositions)}"
      ],
      "metadata": {
        "id": "G_C-pWwWAEyc"
      },
      "execution_count": null,
      "outputs": []
    },
    {
      "cell_type": "code",
      "source": [
        "# H) Determine the total number of unique types\n",
        "unique_types = len(set(words))\n"
      ],
      "metadata": {
        "id": "vA9uv3PAAF9d"
      },
      "execution_count": null,
      "outputs": []
    },
    {
      "cell_type": "code",
      "source": [
        "# I) Identify past and continuous verbs\n",
        "verbs = re.findall(r'\\b\\w+ed\\b|\\b\\w+ing\\b', text)"
      ],
      "metadata": {
        "id": "her00oOQAG53"
      },
      "execution_count": null,
      "outputs": []
    },
    {
      "cell_type": "code",
      "source": [
        "# J) Determine the quantity of capitalized words\n",
        "capitalized_words = re.findall(r'\\b[A-Z][a-z]*\\b', text)"
      ],
      "metadata": {
        "id": "DwQF087_AIE5"
      },
      "execution_count": null,
      "outputs": []
    },
    {
      "cell_type": "code",
      "source": [
        "# K) Determine the number of lowercase words\n",
        "lowercase_words = re.findall(r'\\b[a-z]+\\b', text)"
      ],
      "metadata": {
        "id": "7EYEB_6sAJUG"
      },
      "execution_count": null,
      "outputs": []
    },
    {
      "cell_type": "code",
      "source": [
        "# Print results\n",
        "print(\"A) Punctuation marks:\", punctuation_marks)\n",
        "print(\"B) Punctuation frequency:\", punctuation_frequency)\n",
        "print(\"C) Total character count:\", total_characters)\n",
        "print(\"D) Word count:\", word_count)\n",
        "print(\"   Line count:\", line_count)\n",
        "print(\"E) Space count:\", space_count)\n",
        "print(\"F) Prepositions:\", prepositions)\n",
        "print(\"G) Preposition counts:\", preposition_counts)\n",
        "print(\"H) Unique types count:\", unique_types)\n",
        "print(\"I) Past and continuous verbs:\", verbs)\n",
        "print(\"J) Capitalized words count:\", len(capitalized_words))\n",
        "print(\"K) Lowercase words count:\", len(lowercase_words))"
      ],
      "metadata": {
        "colab": {
          "base_uri": "https://localhost:8080/"
        },
        "id": "jxqXNSIH_3Kl",
        "outputId": "a68bf0ec-11d5-4b42-e478-17b18265f4ba"
      },
      "execution_count": null,
      "outputs": [
        {
          "output_type": "stream",
          "name": "stdout",
          "text": [
            "A) Punctuation marks: ['.', '’', ':', ',', '’', ',', '.', '’', '!', '—', ',', '—', '.', ',', '.', '.', '—', '“', '”', '—', '.', ',', '.', '“', '.', '”', ',', '.', ',', ',', '.', ',', ',', ',', ',', '.', '“', '-', '.', '”', ',', '.', ',', '.', '“', ',', ',', '”', ',', '.', '“', ',', ',', '.', '.', '”', '-', '.', ',', '’', '-', '(', '-', ')', ',', '.', '.', ',', '.', ',', ',', '’', '.', '—', ',', '—', '.', '“', ',', ',', '”', ',', '-', '.', ',', '.', '.', '“', ',', '”', ',', '.', '“', '”', '.', '“', '.', '”', ',', ',', ',', '.', ',', '(', ')', ',', '.', '.', '’', '.', '.', ',', '-', '-', '.', '-', '.', '“', ',', '”', '.', '“', '.', '.', '”', '—', ',', ',', '?', ',', ',', '.', ',', '.', '“', ',', '”', ',', '“', '.', '”', '’', '-', '.', ',', ',', '.', ',', '(', ')', '.', ',', '-', ',', ',', '.', '%', '—', '—', ',', '.', '’', '’', '.', '“', ',', '”', ',', '.', ',', ',', '-', '.', '.', ',', ',', '.', ',', ',', '.', '.', ',', '’', ',', '“', '”', '.', ',', '—', '’', ',', ',', '.', '’', ',', '.', '-', '.', ',', '’', '.', '“', ',', ',', '”', '.', ',', '.', ',', '-', ',', '(', ')', '.', '’', ',', '.', ',', '.', ':', '“', '.', '.', '”', ':', '“', '”', '?', '“', '”', ',', ',', '.', ',', '.', '’', '-', ',', ',', '-', ',', ',', '.', ',', ',', ',', '—', '.', '“', ',', ',', '”', ',', '“', ',', ',', '’', '.', '”', ':', '.', '-', '.', ',', ',', '.', ',', ',', '.', ',', ',', '.', '’', '’', '.', '“', ',', ',', '”', '.', ',', '.', '—', ',', ',', '.', '“', ',', '”', ',', '.', '.', '“', '’', ',', '.', '”', ',', '’', '.', '“', ',', '”', ',', '“', '.', '”', ',', ',', ',', '.', ',', '—', '.', '-', ',', ',', '.', '-', '.', '.', '“', '-', ',', '”', '.', '.', ',', '.', '—', '—', '.', ',', '.', '’', '’', '.', '“', '’', ',', '”', '.', '’', '-', '.']\n",
            "B) Punctuation frequency: {'.': 98, '!': 1, '-': 20, '(': 4, '?': 2, '’': 24, '%': 1, '“': 28, ':': 4, '”': 28, ',': 116, '—': 15, ')': 4}\n",
            "C) Total character count: 12980\n",
            "D) Word count: 2129\n",
            "   Line count: 63\n",
            "E) Space count: 2066\n",
            "F) Prepositions: ['to', 'of', 'about', 'in', 'at', 'for', 'at', 'at', 'of', 'of', 'of', 'of', 'of', 'to', 'to', 'in', 'in', 'to', 'of', 'to', 'for', 'in', 'to', 'to', 'of', 'in', 'in', 'of', 'of', 'of', 'in', 'for', 'to', 'of', 'of', 'of', 'to', 'of', 'to', 'in', 'of', 'at', 'to', 'in', 'to', 'at', 'in', 'of', 'to', 'to', 'of', 'of', 'to', 'of', 'of', 'to', 'to', 'for', 'of', 'to', 'of', 'of', 'of', 'at', 'to', 'in', 'for', 'in', 'in', 'to', 'in', 'to', 'of', 'of', 'to', 'of', 'in', 'to', 'to', 'of', 'to', 'for', 'to', 'in', 'of', 'of', 'at', 'in', 'of', 'to', 'of', 'in', 'to', 'of', 'to', 'of', 'to', 'in', 'of', 'in', 'to', 'to', 'of', 'at', 'to', 'in', 'of', 'to', 'to', 'for', 'at', 'of', 'of', 'to', 'at', 'in', 'to', 'for', 'to', 'to', 'in', 'to', 'of', 'of', 'to', 'in', 'of', 'at', 'to', 'in', 'of', 'to', 'of', 'of', 'to', 'to', 'of', 'in', 'of', 'for', 'of', 'of', 'in', 'to', 'to', 'to', 'of', 'of', 'in', 'to', 'to', 'in', 'to', 'for', 'of', 'at', 'at', 'to', 'of', 'in', 'in', 'to', 'to', 'to', 'to', 'for', 'of', 'in', 'of', 'to', 'of', 'of', 'to', 'of', 'of', 'of', 'in', 'to', 'to', 'of', 'in', 'of', 'for', 'in', 'to', 'to', 'in', 'in', 'for', 'to', 'to', 'of', 'of', 'at', 'of', 'in', 'of', 'in', 'to', 'of', 'to', 'of', 'of', 'to', 'to', 'of', 'of', 'in', 'to', 'at', 'of', 'to']\n",
            "G) Preposition counts: {'for': 13, 'to': 70, 'in': 40, 'of': 73, 'about': 1, 'at': 15}\n",
            "H) Unique types count: 800\n",
            "I) Past and continuous verbs: ['going', 'seeing', 'rendered', 'playing', 'training', 'existing', 'called', 'designed', 'impacting', 'appeared', 'declared', 'Need', 'grouped', 'training', 'lagged', 'learning', 'happened', 'processing', 'changed', 'analyzing', 'predicting', 'led', 'trained', 'unsettling', 'prompted', 'unfolding', 'proving', 'Emerging', 'processing', 'planning', 'learning', 'including', 'related', 'driving', 'promising', 'expanding', 'Need', 'working', 'teaching', 'worked', 'propelled', 'learning', 'applying', 'considered', 'working', 'representing', 'piling', 'processing', 'watched', 'related', 'inspired', 'going', 'getting', 'amazing', 'started', 'wondering', 'something', 'dubbed', 'presented', 'proposed', 'allowing', 'computing', 'divided', 'depending', 'processing', 'applying', 'training', 'spitting', 'classified', 'anything', 'expected', 'propelling', 'suggested', 'believed', 'replaced', 'worked', 'existing', 'updated', 'reached', 'demonstrated', 'leading', 'wanted', 'being', 'examining', 'training', 'picking', 'identified', 'encoded', 'being', 'identifying', 'building', 'processing', 'starting', 'zooming', 'conceived', 'spied', 'tried', 'confusing', 'connecting', 'grabbing', 'processed', 'excited', 'converting', 'string', 'achieving', 'resulting', 'making', 'Coming', 'inventing', 'based', 'training', 'presented', 'combined', 'trained', 'synthesized', 'invented', 'convincing', 'created', 'according', 'evaluating', 'generated', 'generating', 'surprising', 'replacing', 'processing', 'siloed', 'specialized', 'interesting', 'combining', 'listening', 'Emerging', 'including', 'teaching', 'training', 'detecting', 'used', 'emerging', 'training', 'getting', 'interested', 'training', 'training', 'sophisticated', 'ignited', 'including', 'tantalizing']\n",
            "J) Capitalized words count: 167\n",
            "K) Lowercase words count: 1902\n"
          ]
        }
      ]
    },
    {
      "cell_type": "markdown",
      "source": [
        "#Question2\n",
        "A) Identify all the words in the text that contain exactly six characters. Then,count them and sort them alphabetically.\n",
        "\n",
        "B) According to the invention year, identify the 4-digit years and sort them\n",
        "based on the newest.\n",
        "\n",
        "C) How many words in the text contain the character 'E'?\n",
        "\n",
        "\n",
        "D) How many times is the word 'Engine' repeated in the text"
      ],
      "metadata": {
        "id": "_X0UmOScAtxm"
      }
    },
    {
      "cell_type": "code",
      "source": [
        "# Read text from file\n",
        "with open(invention_path, \"r\") as file:\n",
        "    text = file.read()"
      ],
      "metadata": {
        "id": "AgUBU8qLB-DD"
      },
      "execution_count": null,
      "outputs": []
    },
    {
      "cell_type": "code",
      "source": [
        "# A) Identify all the words with exactly six characters\n",
        "six_char_words = sorted(set(re.findall(r'\\b\\w{6}\\b', text)))"
      ],
      "metadata": {
        "id": "79VnHjqSB_KC"
      },
      "execution_count": null,
      "outputs": []
    },
    {
      "cell_type": "code",
      "source": [
        "# B) Identify and sort 4-digit years\n",
        "years = sorted(set(re.findall(r'\\b\\d{4}\\b', text)), reverse=True)"
      ],
      "metadata": {
        "id": "dnAqLL5TCAak"
      },
      "execution_count": null,
      "outputs": []
    },
    {
      "cell_type": "code",
      "source": [
        "\n",
        "# C) Count words containing 'E'\n",
        "words_with_e = re.findall(r'\\b\\w*E\\w*\\b', text)\n",
        "num_words_with_e = len(words_with_e)\n"
      ],
      "metadata": {
        "id": "lXEm0CLPCCYE"
      },
      "execution_count": null,
      "outputs": []
    },
    {
      "cell_type": "code",
      "source": [
        "# D) Count occurrences of 'Engine'\n",
        "engine_count = text.count('Engine')"
      ],
      "metadata": {
        "id": "UJR4TZcmCDf3"
      },
      "execution_count": null,
      "outputs": []
    },
    {
      "cell_type": "code",
      "source": [
        "\n",
        "print(\"A) Words with exactly six characters:\", six_char_words)\n",
        "print(\"B) 4-digit years sorted by newest:\", years)\n",
        "print(\"C) Number of words containing 'E':\", num_words_with_e)\n",
        "print(\"D) Number of occurrences of 'Engine':\", engine_count)"
      ],
      "metadata": {
        "colab": {
          "base_uri": "https://localhost:8080/"
        },
        "id": "UoME7CG-CFDu",
        "outputId": "a9241004-df31-43ee-f252-409c0c5b2daf"
      },
      "execution_count": null,
      "outputs": [
        {
          "output_type": "stream",
          "name": "stdout",
          "text": [
            "A) Words with exactly six characters: ['Albert', 'Alfred', 'Anders', 'Arnold', 'Atomic', 'August', 'Bjarne', 'Blaise', 'Camera', 'Cooper', 'Cullen', 'Dalton', 'Dennis', 'Diesel', 'Dmitri', 'Edison', 'Edward', 'Elisha', 'Emtage', 'Engine', 'Enrico', 'Ernest', 'Fraser', 'George', 'Google', 'Graham', 'Henryk', 'Hubble', 'Johann', 'Jordan', 'Laptop', 'Latham', 'Maiman', 'Martin', 'Mobile', 'Monroe', 'Morton', 'Newton', 'Nikola', 'Niépce', 'Nollet', 'Oxygen', 'Pascal', 'Python', 'Radium', 'Ramsay', 'Robert', 'Rocket', 'Rossum', 'Rubber', 'Rudolf', 'Samuel', 'Search', 'Sergey', 'Sholes', 'Sultan', 'Svante', 'System', 'Talkie', 'Teller', 'Thomas', 'Uranus', 'Walkie', 'Walter', 'Watson', 'Webcam', 'Werner', 'Willis', 'Wright', 'engine', 'number', 'system']\n",
            "B) 4-digit years sorted by newest: ['2007', '2004', '1998', '1995', '1994', '1992', '1991', '1990', '1989', '1987', '1983', '1981', '1973', '1972', '1971', '1969', '1963', '1962', '1947', '1945', '1942', '1940', '1939', '1938', '1936', '1934', '1933', '1928', '1927', '1924', '1912', '1911', '1909', '1903', '1902', '1900', '1899', '1898', '1897', '1896', '1895', '1894', '1892', '1888', '1886', '1885', '1884', '1879', '1878', '1876', '1869', '1867', '1858', '1853', '1839', '1831', '1830', '1820', '1816', '1808', '1803', '1799', '1781', '1780', '1773', '1766', '1759', '1748', '1714', '1698', '1687', '1665', '1642', '1608', '1450', '1440']\n",
            "C) Number of words containing 'E': 21\n",
            "D) Number of occurrences of 'Engine': 4\n"
          ]
        }
      ]
    },
    {
      "cell_type": "code",
      "source": [],
      "metadata": {
        "id": "sJ61p8s7CMTw"
      },
      "execution_count": null,
      "outputs": []
    }
  ]
}